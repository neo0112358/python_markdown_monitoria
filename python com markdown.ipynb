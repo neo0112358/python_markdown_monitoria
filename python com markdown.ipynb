{
 "cells": [
  {
   "cell_type": "markdown",
   "metadata": {},
   "source": [
    "# <h1 style=\"text-align:center;\">  Guia de Converção de Unidades </h1>\n",
    "\n",
    "## Inicialmente, Vamos aprender como converter unidades métricas.\n",
    "### A tabela abaixo mostra algumas unidades de comprimento:\n",
    "    "
   ]
  },
  {
   "cell_type": "markdown",
   "metadata": {},
   "source": [
    " \n",
    " Unidade prefixada   | Correspondente em metro\n",
    "          ---------: | ------:\n",
    " 1 μm - micrômetro   | 0,000001 m\n",
    " 1mm - milímetro     | 0,001 m\n",
    " 1 dm - decímetro    | 0,1 m\n"
   ]
  },
  {
   "cell_type": "code",
   "execution_count": null,
   "metadata": {
    "scrolled": true
   },
   "outputs": [],
   "source": [
    "medida = float (input ('insira aqui uma medida em metros para que possa ser convertida:'))\n",
    "cm = medida * 100\n",
    "mm = medida *1000\n",
    "print ('A medida  de {}m corresponde a {}cm e {}mm'.format(medida, cm, mm))"
   ]
  },
  {
   "cell_type": "markdown",
   "metadata": {},
   "source": [
    "Aqui convertermos km/h para m/s:\n",
    "<div style=\"margin-left:-700px;\">\n",
    "    $$ \\space 200\\frac{Km}{h} \\space para \\space \\space X\\frac{m}{s}$$\n",
    "    </div>"
   ]
  },
  {
   "cell_type": "markdown",
   "metadata": {},
   "source": [
    "<div style=\"margin-left:-700px;\">\n",
    "    $$ 200\\frac{km}{h}. \\frac{1000m}{1km}.\\frac{1h}{3600s}= \\space \\color{Red}5\\color{Red}5\\color{Red},\\color{Red}5 \\frac{m}{s} $$\n",
    "</div>\n",
    "  \n",
    " "
   ]
  },
  {
   "cell_type": "code",
   "execution_count": null,
   "metadata": {},
   "outputs": [],
   "source": [
    "medida = float (input ('insira a medida em kilometros por hora:'))\n",
    "ms = medida / 3.6\n",
    "print ('A medida  de {}km/h corresponde a {} m/s '.format(medida, ms))"
   ]
  },
  {
   "cell_type": "markdown",
   "metadata": {},
   "source": [
    "#  <h1 style=\"text-align:center;\"> Cinemática Vetorial </h1>\n"
   ]
  }
 ],
 "metadata": {
  "kernelspec": {
   "display_name": "Python 3",
   "language": "python",
   "name": "python3"
  },
  "language_info": {
   "codemirror_mode": {
    "name": "ipython",
    "version": 3
   },
   "file_extension": ".py",
   "mimetype": "text/x-python",
   "name": "python",
   "nbconvert_exporter": "python",
   "pygments_lexer": "ipython3",
   "version": "3.8.3"
  }
 },
 "nbformat": 4,
 "nbformat_minor": 4
}
